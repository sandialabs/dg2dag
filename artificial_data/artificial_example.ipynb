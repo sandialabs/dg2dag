{
 "cells": [
  {
   "cell_type": "code",
   "execution_count": 1,
   "metadata": {},
   "outputs": [],
   "source": [
    "import ComputationalHypergraphDiscovery as chd\n",
    "import pandas as pd\n",
    "import pickle\n",
    "\n",
    "import networkx as nx\n",
    "\n",
    "import torch\n",
    "torch.manual_seed(0)\n",
    "import numpy as np\n"
   ]
  },
  {
   "cell_type": "code",
   "execution_count": 2,
   "metadata": {},
   "outputs": [
    {
     "data": {
      "text/html": [
       "<div>\n",
       "<style scoped>\n",
       "    .dataframe tbody tr th:only-of-type {\n",
       "        vertical-align: middle;\n",
       "    }\n",
       "\n",
       "    .dataframe tbody tr th {\n",
       "        vertical-align: top;\n",
       "    }\n",
       "\n",
       "    .dataframe thead th {\n",
       "        text-align: right;\n",
       "    }\n",
       "</style>\n",
       "<table border=\"1\" class=\"dataframe\">\n",
       "  <thead>\n",
       "    <tr style=\"text-align: right;\">\n",
       "      <th></th>\n",
       "      <th>X</th>\n",
       "      <th>Y</th>\n",
       "      <th>Z</th>\n",
       "      <th>B</th>\n",
       "      <th>C</th>\n",
       "    </tr>\n",
       "  </thead>\n",
       "  <tbody>\n",
       "    <tr>\n",
       "      <th>0</th>\n",
       "      <td>-1.125840</td>\n",
       "      <td>-3.067830</td>\n",
       "      <td>4.370651</td>\n",
       "      <td>9.325633</td>\n",
       "      <td>0.016733</td>\n",
       "    </tr>\n",
       "    <tr>\n",
       "      <th>1</th>\n",
       "      <td>-1.152360</td>\n",
       "      <td>-2.860869</td>\n",
       "      <td>4.580361</td>\n",
       "      <td>7.944935</td>\n",
       "      <td>2.031671</td>\n",
       "    </tr>\n",
       "    <tr>\n",
       "      <th>2</th>\n",
       "      <td>-0.250579</td>\n",
       "      <td>-1.813373</td>\n",
       "      <td>0.153417</td>\n",
       "      <td>3.069329</td>\n",
       "      <td>0.110331</td>\n",
       "    </tr>\n",
       "    <tr>\n",
       "      <th>3</th>\n",
       "      <td>-0.433879</td>\n",
       "      <td>-3.111164</td>\n",
       "      <td>0.587666</td>\n",
       "      <td>9.737496</td>\n",
       "      <td>-0.701122</td>\n",
       "    </tr>\n",
       "    <tr>\n",
       "      <th>4</th>\n",
       "      <td>0.848710</td>\n",
       "      <td>3.782373</td>\n",
       "      <td>2.491156</td>\n",
       "      <td>14.263285</td>\n",
       "      <td>1.935063</td>\n",
       "    </tr>\n",
       "    <tr>\n",
       "      <th>...</th>\n",
       "      <td>...</td>\n",
       "      <td>...</td>\n",
       "      <td>...</td>\n",
       "      <td>...</td>\n",
       "      <td>...</td>\n",
       "    </tr>\n",
       "    <tr>\n",
       "      <th>1495</th>\n",
       "      <td>0.403254</td>\n",
       "      <td>3.240962</td>\n",
       "      <td>0.495614</td>\n",
       "      <td>10.383460</td>\n",
       "      <td>-1.694597</td>\n",
       "    </tr>\n",
       "    <tr>\n",
       "      <th>1496</th>\n",
       "      <td>0.802490</td>\n",
       "      <td>3.902219</td>\n",
       "      <td>2.322147</td>\n",
       "      <td>15.373322</td>\n",
       "      <td>0.658877</td>\n",
       "    </tr>\n",
       "    <tr>\n",
       "      <th>1497</th>\n",
       "      <td>0.262803</td>\n",
       "      <td>2.128708</td>\n",
       "      <td>0.155480</td>\n",
       "      <td>4.623086</td>\n",
       "      <td>-2.091746</td>\n",
       "    </tr>\n",
       "    <tr>\n",
       "      <th>1498</th>\n",
       "      <td>0.690109</td>\n",
       "      <td>3.775874</td>\n",
       "      <td>1.733559</td>\n",
       "      <td>14.025502</td>\n",
       "      <td>2.130932</td>\n",
       "    </tr>\n",
       "    <tr>\n",
       "      <th>1499</th>\n",
       "      <td>0.397164</td>\n",
       "      <td>2.849241</td>\n",
       "      <td>0.609634</td>\n",
       "      <td>8.004045</td>\n",
       "      <td>1.970449</td>\n",
       "    </tr>\n",
       "  </tbody>\n",
       "</table>\n",
       "<p>1500 rows × 5 columns</p>\n",
       "</div>"
      ],
      "text/plain": [
       "             X         Y         Z          B         C\n",
       "0    -1.125840 -3.067830  4.370651   9.325633  0.016733\n",
       "1    -1.152360 -2.860869  4.580361   7.944935  2.031671\n",
       "2    -0.250579 -1.813373  0.153417   3.069329  0.110331\n",
       "3    -0.433879 -3.111164  0.587666   9.737496 -0.701122\n",
       "4     0.848710  3.782373  2.491156  14.263285  1.935063\n",
       "...        ...       ...       ...        ...       ...\n",
       "1495  0.403254  3.240962  0.495614  10.383460 -1.694597\n",
       "1496  0.802490  3.902219  2.322147  15.373322  0.658877\n",
       "1497  0.262803  2.128708  0.155480   4.623086 -2.091746\n",
       "1498  0.690109  3.775874  1.733559  14.025502  2.130932\n",
       "1499  0.397164  2.849241  0.609634   8.004045  1.970449\n",
       "\n",
       "[1500 rows x 5 columns]"
      ]
     },
     "execution_count": 2,
     "metadata": {},
     "output_type": "execute_result"
    }
   ],
   "source": [
    "# Parameters\n",
    "N_datapoints = 1500\n",
    "sigma = 0.1\n",
    "\n",
    "# Generate the data\n",
    "# X -> Y\n",
    "# X -> Z\n",
    "# Y,Z-> B\n",
    "# B -> C\n",
    "X = torch.randn(N_datapoints)\n",
    "Y = 4 * torch.sin(2 * X) + sigma * torch.randn(N_datapoints)\n",
    "Z = 3.5 * X**2 + sigma * torch.randn(N_datapoints)\n",
    "B = Y**2 - Z**2 / 100 + sigma * torch.randn(N_datapoints)\n",
    "C = 2 * torch.sin(B) + sigma * torch.randn(N_datapoints)\n",
    "\n",
    "# Stack the data into a single tensor\n",
    "data = torch.stack([X, Y, Z, B, C], dim=1)\n",
    "\n",
    "df = pd.DataFrame(data.numpy(), columns=['X', 'Y', 'Z', 'B', 'C'])\n",
    "df"
   ]
  },
  {
   "cell_type": "code",
   "execution_count": 3,
   "metadata": {},
   "outputs": [],
   "source": [
    "def create_adjacency_matrix(G, weight_key='signal'):\n",
    "    # nodes \n",
    "    nodes = list(G.nodes())\n",
    "    n = len(nodes)\n",
    "    \n",
    "    adj_matrix = np.zeros((n, n))\n",
    "    for i, node_i in enumerate(nodes):\n",
    "        for j, node_j in enumerate(nodes):\n",
    "            if G.has_edge(node_i, node_j):\n",
    "                adj_matrix[i, j] = G.get_edge_data(node_i, node_j).get(weight_key, 0)\n",
    "    \n",
    "    # visualize\n",
    "    adj_df = pd.DataFrame(adj_matrix, index=nodes, columns=nodes)\n",
    "    print(adj_df)\n",
    "    return adj_matrix\n",
    "    \n",
    "    adj_matrix_df = create_adjacency_matrix(graph_discovery.G)"
   ]
  },
  {
   "cell_type": "code",
   "execution_count": 5,
   "metadata": {},
   "outputs": [
    {
     "name": "stdout",
     "output_type": "stream",
     "text": [
      "loaded data from disk\n"
     ]
    }
   ],
   "source": [
    "\n",
    "try:\n",
    "    print(\"loaded data from disk\")\n",
    "    with open(\"artificial_graph.p\", \"rb\") as file:\n",
    "        G = pickle.load(file)\n",
    "except Exception as e:\n",
    "    print(e)\n",
    "    graph_discovery=chd.GraphDiscovery.from_dataframe(df)\n",
    "    G = graph_discovery.G\n",
    "    graph_discovery.fit()\n",
    "    \n",
    "    pickle.dump(graph_discovery.G, open(\"artificial_graph.p\", \"wb\"))\n",
    "\n",
    "    # X -> Y\n",
    "    # X -> Z\n",
    "    # Y,Z-> B\n",
    "    # B -> C\n",
    "    graph_discovery.plot_graph()"
   ]
  },
  {
   "cell_type": "code",
   "execution_count": 6,
   "metadata": {},
   "outputs": [
    {
     "name": "stdout",
     "output_type": "stream",
     "text": [
      "          X         Y         Z         B         C\n",
      "X  0.000000  0.175792  0.229685  0.011643  0.000000\n",
      "Y  0.119583  0.000000  0.000000  0.429936  0.000000\n",
      "Z  0.097555  0.048911  0.000000  0.009265  0.000000\n",
      "B  0.000000  0.000000  0.000000  0.000000  0.459243\n",
      "C  0.000000  0.000000  0.000000  0.000000  0.000000\n"
     ]
    }
   ],
   "source": [
    "adj_matrix_df = create_adjacency_matrix(G)"
   ]
  },
  {
   "cell_type": "code",
   "execution_count": 7,
   "metadata": {},
   "outputs": [
    {
     "name": "stdout",
     "output_type": "stream",
     "text": [
      "0 0\n",
      "0\n"
     ]
    },
    {
     "name": "stderr",
     "output_type": "stream",
     "text": [
      "/Users/abvoron/repos/dg2dag/artificial_data/../shared_casual_discovery.py:102: RuntimeWarning: invalid value encountered in scalar divide\n",
      "  edge_sgn = int(cycle[idx] / edge_idx)\n"
     ]
    },
    {
     "ename": "ValueError",
     "evalue": "cannot convert float NaN to integer",
     "output_type": "error",
     "traceback": [
      "\u001b[0;31m---------------------------------------------------------------------------\u001b[0m",
      "\u001b[0;31mValueError\u001b[0m                                Traceback (most recent call last)",
      "Cell \u001b[0;32mIn[7], line 9\u001b[0m\n\u001b[1;32m      6\u001b[0m lr \u001b[38;5;241m=\u001b[39m \u001b[38;5;241m1e-2\u001b[39m\n\u001b[1;32m      7\u001b[0m use_lowest_loss \u001b[38;5;241m=\u001b[39m \u001b[38;5;28;01mFalse\u001b[39;00m\n\u001b[0;32m----> 9\u001b[0m mse_losses, model_weights_hist, opt_epoch \u001b[38;5;241m=\u001b[39m \u001b[43mfind_direction\u001b[49m\u001b[43m(\u001b[49m\n\u001b[1;32m     10\u001b[0m \u001b[43m                    \u001b[49m\u001b[43mdf\u001b[49m\u001b[43m,\u001b[49m\u001b[43m \u001b[49m\n\u001b[1;32m     11\u001b[0m \u001b[43m                    \u001b[49m\u001b[43mM\u001b[49m\u001b[38;5;241;43m=\u001b[39;49m\u001b[43madj_matrix_df\u001b[49m\u001b[38;5;241;43m.\u001b[39;49m\u001b[43mcopy\u001b[49m\u001b[43m(\u001b[49m\u001b[43m)\u001b[49m\u001b[43m,\u001b[49m\n\u001b[1;32m     12\u001b[0m \u001b[43m                    \u001b[49m\u001b[43mepochs\u001b[49m\u001b[38;5;241;43m=\u001b[39;49m\u001b[38;5;241;43m2000\u001b[39;49m\u001b[43m,\u001b[49m\n\u001b[1;32m     13\u001b[0m \u001b[43m                    \u001b[49m\u001b[43mpretrain_epochs\u001b[49m\u001b[43m \u001b[49m\u001b[38;5;241;43m=\u001b[39;49m\u001b[43m \u001b[49m\u001b[38;5;241;43m100\u001b[39;49m\u001b[43m,\u001b[49m\u001b[43m \u001b[49m\u001b[43mpre_lr\u001b[49m\u001b[43m \u001b[49m\u001b[38;5;241;43m=\u001b[39;49m\u001b[43m \u001b[49m\u001b[43mpre_lr\u001b[49m\u001b[43m,\u001b[49m\n\u001b[1;32m     14\u001b[0m \u001b[43m                    \u001b[49m\u001b[43md1_weight\u001b[49m\u001b[43m \u001b[49m\u001b[38;5;241;43m=\u001b[39;49m\u001b[43m \u001b[49m\u001b[38;5;241;43m1.0\u001b[39;49m\u001b[43m,\u001b[49m\u001b[43m \u001b[49m\u001b[43mlr\u001b[49m\u001b[43m \u001b[49m\u001b[38;5;241;43m=\u001b[39;49m\u001b[43m \u001b[49m\u001b[43mlr\u001b[49m\u001b[43m,\u001b[49m\n\u001b[1;32m     15\u001b[0m \u001b[43m                    \u001b[49m\u001b[43mrng_seed\u001b[49m\u001b[38;5;241;43m=\u001b[39;49m\u001b[38;5;241;43m7\u001b[39;49m\u001b[43m,\u001b[49m\n\u001b[1;32m     16\u001b[0m \u001b[43m                    \u001b[49m\u001b[43mplots\u001b[49m\u001b[38;5;241;43m=\u001b[39;49m\u001b[38;5;28;43;01mFalse\u001b[39;49;00m\u001b[43m,\u001b[49m\n\u001b[1;32m     17\u001b[0m \u001b[43m                    \u001b[49m\u001b[43muse_lowest_loss\u001b[49m\u001b[38;5;241;43m=\u001b[39;49m\u001b[43muse_lowest_loss\u001b[49m\n\u001b[1;32m     18\u001b[0m \u001b[43m                    \u001b[49m\u001b[43m)\u001b[49m\n",
      "File \u001b[0;32m~/repos/dg2dag/artificial_data/../shared_casual_discovery.py:409\u001b[0m, in \u001b[0;36mfind_direction\u001b[0;34m(df, M, epochs, pretrain_epochs, pre_lr, d1_weight, lr, rng_seed, plots, save_fig, use_noise, use_lowest_loss)\u001b[0m\n\u001b[1;32m    406\u001b[0m np\u001b[38;5;241m.\u001b[39mrandom\u001b[38;5;241m.\u001b[39mseed(rng_seed)\n\u001b[1;32m    407\u001b[0m torch\u001b[38;5;241m.\u001b[39mcuda\u001b[38;5;241m.\u001b[39mmanual_seed_all(rng_seed)\n\u001b[0;32m--> 409\u001b[0m model \u001b[38;5;241m=\u001b[39m \u001b[43mReconstruct\u001b[49m\u001b[43m(\u001b[49m\u001b[43mM\u001b[49m\u001b[43m,\u001b[49m\u001b[43m \u001b[49m\u001b[43muse_noise\u001b[49m\u001b[38;5;241;43m=\u001b[39;49m\u001b[43muse_noise\u001b[49m\u001b[43m)\u001b[49m\u001b[38;5;241m.\u001b[39mto(dtype\u001b[38;5;241m=\u001b[39mtorch\u001b[38;5;241m.\u001b[39mfloat64)\n\u001b[1;32m    411\u001b[0m \u001b[38;5;66;03m## step 2b: pretrain the neural networks ######################################\u001b[39;00m\n\u001b[1;32m    412\u001b[0m pre_losses \u001b[38;5;241m=\u001b[39m pretrain(model, pretrain_epochs, pre_lr, data_tensor)\n",
      "File \u001b[0;32m~/repos/dg2dag/artificial_data/../shared_casual_discovery.py:302\u001b[0m, in \u001b[0;36mReconstruct.__init__\u001b[0;34m(self, adj_matrix, use_CHD_init, use_noise)\u001b[0m\n\u001b[1;32m    300\u001b[0m \u001b[38;5;66;03m#weight parameters\u001b[39;00m\n\u001b[1;32m    301\u001b[0m \u001b[38;5;28mself\u001b[39m\u001b[38;5;241m.\u001b[39muse_noise \u001b[38;5;241m=\u001b[39m use_noise\n\u001b[0;32m--> 302\u001b[0m weight_init, _ \u001b[38;5;241m=\u001b[39m \u001b[43msolve_system\u001b[49m\u001b[43m(\u001b[49m\u001b[43madj_matrix\u001b[49m\u001b[43m)\u001b[49m \u001b[38;5;66;03m# nearest DAG init\u001b[39;00m\n\u001b[1;32m    303\u001b[0m \u001b[38;5;28;01mif\u001b[39;00m use_CHD_init:\n\u001b[1;32m    304\u001b[0m     weight_init \u001b[38;5;241m=\u001b[39m adj_matrix\u001b[38;5;241m.\u001b[39mflatten()[np\u001b[38;5;241m.\u001b[39mnonzero(adj_matrix\u001b[38;5;241m.\u001b[39mflatten())[\u001b[38;5;241m0\u001b[39m]] \u001b[38;5;66;03m#CHD init\u001b[39;00m\n",
      "File \u001b[0;32m~/repos/dg2dag/artificial_data/../shared_casual_discovery.py:209\u001b[0m, in \u001b[0;36msolve_system\u001b[0;34m(adj_matrix)\u001b[0m\n\u001b[1;32m    207\u001b[0m edge_matrix \u001b[38;5;241m=\u001b[39m find_edges(adj_matrix)\n\u001b[1;32m    208\u001b[0m \u001b[38;5;66;03m#par_list, chil_list = find_parents_children(adj_matrix)\u001b[39;00m\n\u001b[0;32m--> 209\u001b[0m d1 \u001b[38;5;241m=\u001b[39m \u001b[43mcompute_C\u001b[49m\u001b[43m(\u001b[49m\u001b[43madj_matrix\u001b[49m\u001b[43m)\u001b[49m\n\u001b[1;32m    210\u001b[0m \u001b[38;5;66;03m#print(\"d1:\", d1)\u001b[39;00m\n\u001b[1;32m    211\u001b[0m num_cycles \u001b[38;5;241m=\u001b[39m \u001b[38;5;28mlen\u001b[39m(d1)\n",
      "File \u001b[0;32m~/repos/dg2dag/artificial_data/../shared_casual_discovery.py:102\u001b[0m, in \u001b[0;36mcompute_C\u001b[0;34m(adj_mat)\u001b[0m\n\u001b[1;32m    100\u001b[0m     \u001b[38;5;28mprint\u001b[39m(idx, edge_idx)\n\u001b[1;32m    101\u001b[0m     \u001b[38;5;28mprint\u001b[39m(cycle[idx])\n\u001b[0;32m--> 102\u001b[0m     edge_sgn \u001b[38;5;241m=\u001b[39m \u001b[38;5;28;43mint\u001b[39;49m\u001b[43m(\u001b[49m\u001b[43mcycle\u001b[49m\u001b[43m[\u001b[49m\u001b[43midx\u001b[49m\u001b[43m]\u001b[49m\u001b[43m \u001b[49m\u001b[38;5;241;43m/\u001b[39;49m\u001b[43m \u001b[49m\u001b[43medge_idx\u001b[49m\u001b[43m)\u001b[49m\n\u001b[1;32m    103\u001b[0m     temp_array[\u001b[38;5;241m0\u001b[39m,edge_idx] \u001b[38;5;241m=\u001b[39m edge_sgn\n\u001b[1;32m    104\u001b[0m dir_cycles\u001b[38;5;241m.\u001b[39mappend(temp_array)\n",
      "\u001b[0;31mValueError\u001b[0m: cannot convert float NaN to integer"
     ]
    }
   ],
   "source": [
    "import sys\n",
    "sys.path.append(\"../\")\n",
    "from shared_casual_discovery import *\n",
    "\n",
    "pre_lr = 1e-2\n",
    "lr = 1e-2\n",
    "use_lowest_loss = False\n",
    "\n",
    "mse_losses, model_weights_hist, opt_epoch = find_direction(\n",
    "                    df, \n",
    "                    M=adj_matrix_df.copy(),\n",
    "                    epochs=2000,\n",
    "                    pretrain_epochs = 100, pre_lr = pre_lr,\n",
    "                    d1_weight = 1.0, lr = lr,\n",
    "                    rng_seed=7,\n",
    "                    plots=False,\n",
    "                    use_lowest_loss=use_lowest_loss\n",
    "                    )"
   ]
  },
  {
   "cell_type": "code",
   "execution_count": null,
   "metadata": {},
   "outputs": [],
   "source": []
  }
 ],
 "metadata": {
  "kernelspec": {
   "display_name": "firedrake",
   "language": "python",
   "name": "firedrake"
  },
  "language_info": {
   "codemirror_mode": {
    "name": "ipython",
    "version": 3
   },
   "file_extension": ".py",
   "mimetype": "text/x-python",
   "name": "python",
   "nbconvert_exporter": "python",
   "pygments_lexer": "ipython3",
   "version": "3.12.4"
  }
 },
 "nbformat": 4,
 "nbformat_minor": 4
}
